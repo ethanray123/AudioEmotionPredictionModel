{
 "cells": [
  {
   "cell_type": "code",
   "execution_count": 1,
   "metadata": {},
   "outputs": [
    {
     "name": "stdout",
     "output_type": "stream",
     "text": [
      "1.10.0\n"
     ]
    }
   ],
   "source": [
    "# TensorFlow and tf.keras\n",
    "import tensorflow as tf\n",
    "from tensorflow import keras\n",
    "\n",
    "# Helper libraries\n",
    "import numpy as np\n",
    "import matplotlib.pyplot as plt\n",
    "import glob\n",
    "import os\n",
    "import csv\n",
    "import pandas as pd\n",
    "from sklearn.model_selection import train_test_split\n",
    "from sklearn.model_selection import KFold\n",
    "print(tf.__version__)"
   ]
  },
  {
   "cell_type": "code",
   "execution_count": 2,
   "metadata": {},
   "outputs": [
    {
     "name": "stdout",
     "output_type": "stream",
     "text": [
      "training set: (1081, 193)\n",
      "valence_y_train: (1081,)\n",
      "testing set: (721, 193)\n",
      "valence_y_test: (721,)\n"
     ]
    }
   ],
   "source": [
    "# LOAD DATA\n",
    "# x_train = np.load(\"train_x.npy\")\n",
    "# valence_y_train = np.load(\"valence_train_y.npy\")\n",
    "# x_test = np.load(\"test_x.npy\")\n",
    "# valence_y_test = np.load(\"valence_test_y.npy\")\n",
    "\n",
    "# valence_y_train = valence_y_train.flatten()\n",
    "# valence_y_test = valence_y_test.flatten()\n",
    "\n",
    "# # Shuffle the training set\n",
    "# order = np.argsort(np.random.random(valence_y_train.shape))\n",
    "# x_train = x_train[order]\n",
    "# valence_y_train = valence_y_train[order]\n",
    "\n",
    "audio_data = np.load(\"audio_data.npy\")\n",
    "valence_labels = np.load(\"valence_labels.npy\")\n",
    "\n",
    "x_train, x_test, valence_y_train, valence_y_test = train_test_split(\n",
    "    audio_data, valence_labels, test_size=0.4, random_state=0)\n",
    "\n",
    "print(\"training set: {}\".format(x_train.shape))\n",
    "print(\"valence_y_train: {}\".format(valence_y_train.shape))\n",
    "print(\"testing set: {}\".format(x_test.shape))\n",
    "print(\"valence_y_test: {}\".format(valence_y_test.shape))"
   ]
  },
  {
   "cell_type": "code",
   "execution_count": 22,
   "metadata": {},
   "outputs": [
    {
     "name": "stdout",
     "output_type": "stream",
     "text": [
      "KFold(n_splits=10, random_state=None, shuffle=True)\n"
     ]
    }
   ],
   "source": [
    "# kf = KFold(n_splits=10, shuffle=True) # Define the split - into 10 folds \n",
    "# kf.get_n_splits(audio_data) # returns the number of splitting iterations in the cross-validator\n",
    "# print(kf) \n",
    "\n",
    "# for train_index, test_index in kf.split(audio_data):\n",
    "#     print('TRAIN:', train_index, 'TEST:', test_index)\n",
    "#     X_train, X_test = audio_data[train_index], audio_data[test_index]\n",
    "#     y_train, y_test = valence_labels[train_index], valence_labels[test_index]"
   ]
  },
  {
   "cell_type": "code",
   "execution_count": 3,
   "metadata": {},
   "outputs": [
    {
     "name": "stdout",
     "output_type": "stream",
     "text": [
      "219.8820632857511 <class 'numpy.float64'>\n",
      "0.6558553177043096 <class 'numpy.float64'>\n"
     ]
    }
   ],
   "source": [
    "# Normalize the data\n",
    "\n",
    "print(x_train[0][1], type(x_train[0][1]))  # Display sample features, notice the different scales\n",
    "\n",
    "# Using mean and standard deviation\n",
    "# mean = x_train.mean(axis=0)\n",
    "# std = x_train.std(axis=0)\n",
    "# x_train = (x_train - mean) / std\n",
    "# x_test = (x_test - mean) / std\n",
    "\n",
    "# Using keras utilities normalize\n",
    "x_train = keras.utils.normalize(x_train, axis=1)  # scales data between 0 and 1\n",
    "x_test = keras.utils.normalize(x_test, axis=1)  # scales data between 0 and 1\n",
    "\n",
    "print(x_train[0][1], type(x_train[0][1]))\n"
   ]
  },
  {
   "cell_type": "code",
   "execution_count": 4,
   "metadata": {},
   "outputs": [
    {
     "name": "stdout",
     "output_type": "stream",
     "text": [
      "_________________________________________________________________\n",
      "Layer (type)                 Output Shape              Param #   \n",
      "=================================================================\n",
      "dense (Dense)                (None, 64)                12416     \n",
      "_________________________________________________________________\n",
      "dense_1 (Dense)              (None, 64)                4160      \n",
      "_________________________________________________________________\n",
      "dense_2 (Dense)              (None, 1)                 65        \n",
      "=================================================================\n",
      "Total params: 16,641\n",
      "Trainable params: 16,641\n",
      "Non-trainable params: 0\n",
      "_________________________________________________________________\n"
     ]
    }
   ],
   "source": [
    "def build_model():\n",
    "  model = keras.Sequential([\n",
    "    keras.layers.Dense(64, activation=tf.nn.relu, \n",
    "                       input_shape=(x_train.shape[1],)),\n",
    "    keras.layers.Dense(64, activation=tf.nn.relu),\n",
    "    keras.layers.Dense(1)\n",
    "  ])\n",
    "\n",
    "  optimizer = tf.train.RMSPropOptimizer(0.001)\n",
    "\n",
    "  model.compile(loss='mse',\n",
    "                optimizer=optimizer,\n",
    "                metrics=['mae'])\n",
    "  return model\n",
    "\n",
    "model = build_model()\n",
    "model.summary()"
   ]
  },
  {
   "cell_type": "code",
   "execution_count": 5,
   "metadata": {},
   "outputs": [
    {
     "name": "stdout",
     "output_type": "stream",
     "text": [
      "\n",
      "....................................................................................................\n",
      "....................................................................................................\n",
      "....................................................................................................\n",
      "....................................................................................................\n",
      "...................................................................................................."
     ]
    }
   ],
   "source": [
    "# Display training progress by printing a single dot for each completed epoch.\n",
    "class PrintDot(keras.callbacks.Callback):\n",
    "  def on_epoch_end(self,epoch,logs):\n",
    "    if epoch % 100 == 0: print('')\n",
    "    print('.', end='')\n",
    "\n",
    "EPOCHS = 500\n",
    "\n",
    "# Store training stats\n",
    "history = model.fit(x_train, valence_y_train, epochs=EPOCHS,\n",
    "                    validation_split=0.2, verbose=0,\n",
    "                    callbacks=[PrintDot()])"
   ]
  },
  {
   "cell_type": "code",
   "execution_count": 6,
   "metadata": {},
   "outputs": [],
   "source": [
    "import matplotlib.pyplot as plt\n",
    "\n",
    "\n",
    "def plot_history(history):\n",
    "  plt.figure()\n",
    "  plt.xlabel('Epoch')\n",
    "  plt.ylabel('Mean Abs Error [Valence]')\n",
    "  plt.plot(history.epoch, np.array(history.history['mean_absolute_error']), \n",
    "           label='Train Loss')\n",
    "  plt.plot(history.epoch, np.array(history.history['val_mean_absolute_error']),\n",
    "           label = 'Val loss')\n",
    "  plt.legend()\n",
    "  plt.ylim([0,5])"
   ]
  },
  {
   "cell_type": "code",
   "execution_count": 7,
   "metadata": {},
   "outputs": [
    {
     "data": {
      "image/png": "[encoded data removed]",
      "text/plain": [
       "<Figure size 432x288 with 1 Axes>"
      ]
     },
     "metadata": {},
     "output_type": "display_data"
    }
   ],
   "source": [
    "plot_history(history)"
   ]
  },
  {
   "cell_type": "code",
   "execution_count": 8,
   "metadata": {},
   "outputs": [
    {
     "name": "stdout",
     "output_type": "stream",
     "text": [
      "\n",
      "...................................................."
     ]
    },
    {
     "data": {
      "image/png": "[encoded data removed]",
      "text/plain": [
       "<Figure size 432x288 with 1 Axes>"
      ]
     },
     "metadata": {},
     "output_type": "display_data"
    }
   ],
   "source": [
    "model = build_model()\n",
    "\n",
    "# The patience parameter is the amount of epochs to check for improvement.\n",
    "early_stop = keras.callbacks.EarlyStopping(monitor='val_loss', patience=20)\n",
    "\n",
    "history = model.fit(x_train, valence_y_train, epochs=EPOCHS,\n",
    "                    validation_split=0.2, verbose=0,\n",
    "                    callbacks=[early_stop, PrintDot()])\n",
    "\n",
    "plot_history(history)"
   ]
  },
  {
   "cell_type": "code",
   "execution_count": 9,
   "metadata": {},
   "outputs": [
    {
     "name": "stdout",
     "output_type": "stream",
     "text": [
      "Testing set Mean Abs Error:   0.76\n"
     ]
    }
   ],
   "source": [
    "[loss, mae] = model.evaluate(x_test, valence_y_test, verbose=0)\n",
    "\n",
    "print(\"Testing set Mean Abs Error:{:7.2f}\".format(mae))"
   ]
  },
  {
   "cell_type": "code",
   "execution_count": 10,
   "metadata": {},
   "outputs": [
    {
     "name": "stdout",
     "output_type": "stream",
     "text": [
      "721\n",
      "721\n"
     ]
    }
   ],
   "source": [
    "test_predictions = model.predict(x_test).flatten()\n",
    "\n",
    "print(len(test_predictions))\n",
    "print(len(valence_y_test))"
   ]
  },
  {
   "cell_type": "code",
   "execution_count": 11,
   "metadata": {},
   "outputs": [
    {
     "name": "stdout",
     "output_type": "stream",
     "text": [
      "test[324] - values different by 3.2\n",
      "Summary of Differences:\n",
      "Less than one: 506\n",
      "Less than two: 191\n",
      "Less than three: 23\n",
      "Unmanageable: 1\n"
     ]
    }
   ],
   "source": [
    "less_than_one=0\n",
    "less_than_two=0\n",
    "less_than_three=0\n",
    "not_manageable=0\n",
    "\n",
    "for i in range(len(valence_y_test)):\n",
    "    diff = abs(test_predictions[i] - valence_y_test[i])\n",
    "    if(diff < 1):\n",
    "        less_than_one = less_than_one + 1\n",
    "    elif(diff < 2):\n",
    "        less_than_two = less_than_two + 1\n",
    "    elif(diff < 3):\n",
    "        less_than_three = less_than_three + 1\n",
    "    else:\n",
    "        not_manageable = not_manageable + 1\n",
    "        print(\"test[{}] - values different by {:.1f}\".format(i,diff))\n",
    "#     print(\"test[{0:}] - expected: {1:.1f}, prediction: {2:.1f}\".format(i,test_predictions[i],valence_y_test[i]))\n",
    "print(\"Summary of Differences:\\nLess than one: {}\\nLess than two: {}\\nLess than three: {}\\nUnmanageable: {}\".format(less_than_one,less_than_two,less_than_three,not_manageable))\n",
    "\n",
    "\n",
    "# print(\"test[436] - expected: {0:.1f}, prediction: {1:.1f}\".format(test_predictions[436],valence_y_test[436]))"
   ]
  },
  {
   "cell_type": "code",
   "execution_count": 12,
   "metadata": {},
   "outputs": [
    {
     "name": "stdout",
     "output_type": "stream",
     "text": [
      "Test Samples Accounted for: 721/721\n"
     ]
    }
   ],
   "source": [
    "print(\"Test Samples Accounted for: {}/{}\".format(less_than_one+less_than_two+less_than_three+not_manageable,len(valence_y_test)))"
   ]
  }
 ],
 "metadata": {
  "kernelspec": {
   "display_name": "work",
   "language": "python",
   "name": "work"
  },
  "language_info": {
   "codemirror_mode": {
    "name": "ipython",
    "version": 3
   },
   "file_extension": ".py",
   "mimetype": "text/x-python",
   "name": "python",
   "nbconvert_exporter": "python",
   "pygments_lexer": "ipython3",
   "version": "3.6.5"
  }
 },
 "nbformat": 4,
 "nbformat_minor": 2
}
