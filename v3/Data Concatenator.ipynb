{
 "cells": [
  {
   "cell_type": "code",
   "execution_count": 1,
   "metadata": {},
   "outputs": [
    {
     "name": "stdout",
     "output_type": "stream",
     "text": [
      "1.10.0\n"
     ]
    }
   ],
   "source": [
    "# TensorFlow and tf.keras\n",
    "import tensorflow as tf\n",
    "from tensorflow import keras\n",
    "\n",
    "# Helper libraries\n",
    "import numpy as np\n",
    "import matplotlib.pyplot as plt\n",
    "import glob\n",
    "import os\n",
    "import csv\n",
    "import pandas as pd\n",
    "print(tf.__version__)"
   ]
  },
  {
   "cell_type": "code",
   "execution_count": 2,
   "metadata": {},
   "outputs": [
    {
     "name": "stdout",
     "output_type": "stream",
     "text": [
      "(1351, 193) (451, 193)\n"
     ]
    }
   ],
   "source": [
    "# LOAD DATA\n",
    "x_train = np.load(\"train_x.npy\")\n",
    "x_test = np.load(\"test_x.npy\")\n",
    "valence_y_train = np.load(\"valence_train_y.npy\")\n",
    "valence_y_test = np.load(\"valence_test_y.npy\")\n",
    "arousal_y_train = np.load(\"arousal_train_y.npy\")\n",
    "arousal_y_test = np.load(\"arousal_test_y.npy\")\n",
    "print(x_train.shape,x_test.shape)"
   ]
  },
  {
   "cell_type": "code",
   "execution_count": 3,
   "metadata": {},
   "outputs": [
    {
     "name": "stdout",
     "output_type": "stream",
     "text": [
      "(1802, 193) (1802,) (1802,)\n"
     ]
    }
   ],
   "source": [
    "# CONCATENATE\n",
    "audio_data = np.vstack([x_train,x_test])\n",
    "valence_labels = np.vstack([valence_y_train,valence_y_test])\n",
    "valence_labels = valence_labels.flatten()\n",
    "arousal_labels = np.vstack([arousal_y_train,arousal_y_test])\n",
    "arousal_labels = arousal_labels.flatten()\n",
    "print(audio_data.shape, valence_labels.shape, arousal_labels.shape)"
   ]
  },
  {
   "cell_type": "code",
   "execution_count": 4,
   "metadata": {},
   "outputs": [],
   "source": [
    "# SAVE\n",
    "np.save('audio_data.npy', audio_data)\n",
    "np.save('valence_labels.npy', valence_labels)\n",
    "np.save('arousal_labels.npy', arousal_labels)"
   ]
  }
 ],
 "metadata": {
  "kernelspec": {
   "display_name": "work",
   "language": "python",
   "name": "work"
  },
  "language_info": {
   "codemirror_mode": {
    "name": "ipython",
    "version": 3
   },
   "file_extension": ".py",
   "mimetype": "text/x-python",
   "name": "python",
   "nbconvert_exporter": "python",
   "pygments_lexer": "ipython3",
   "version": "3.6.5"
  }
 },
 "nbformat": 4,
 "nbformat_minor": 2
}
